{
  "nbformat": 4,
  "nbformat_minor": 0,
  "metadata": {
    "colab": {
      "name": "sklearn_ml_example",
      "provenance": [],
      "authorship_tag": "ABX9TyOnf/2+pSeZsJwLYf8yPY/g",
      "include_colab_link": true
    },
    "kernelspec": {
      "name": "python3",
      "display_name": "Python 3"
    },
    "language_info": {
      "name": "python"
    }
  },
  "cells": [
    {
      "cell_type": "markdown",
      "metadata": {
        "id": "view-in-github",
        "colab_type": "text"
      },
      "source": [
        "<a href=\"https://colab.research.google.com/github/aandrin25/professional-in-my-opinion/blob/main/sklearn_ml_example.ipynb\" target=\"_parent\"><img src=\"https://colab.research.google.com/assets/colab-badge.svg\" alt=\"Open In Colab\"/></a>"
      ]
    },
    {
      "cell_type": "markdown",
      "source": [
        "# Step 2: Import Librarys and Modules"
      ],
      "metadata": {
        "id": "72DC1ocWv8zb"
      }
    },
    {
      "cell_type": "code",
      "execution_count": 21,
      "metadata": {
        "id": "Cy7FDHEsvwdb"
      },
      "outputs": [],
      "source": [
        "import numpy as np\n",
        "np.set_printoptions(suppress=True)\n",
        "import pandas as pd"
      ]
    },
    {
      "cell_type": "code",
      "source": [
        "from sklearn.model_selection import train_test_split\n",
        "from sklearn import preprocessing\n",
        "from sklearn.ensemble import RandomForestRegressor\n",
        "from sklearn.pipeline import make_pipeline\n",
        "from sklearn.model_selection import GridSearchCV\n",
        "from sklearn.metrics import mean_squared_error, r2_score\n",
        "import joblib"
      ],
      "metadata": {
        "id": "5mzip-gBwO0q"
      },
      "execution_count": 22,
      "outputs": []
    },
    {
      "cell_type": "markdown",
      "source": [
        "# Step 3: Load Red Wine Data"
      ],
      "metadata": {
        "id": "-1kwd4jiyFzL"
      }
    },
    {
      "cell_type": "code",
      "source": [
        "# Uploads the data set from a remote URL\n",
        "dataset_url = 'https://archive.ics.uci.edu/ml/machine-learning-databases/wine-quality/winequality-red.csv'\n",
        "data = pd.read_csv(dataset_url)\n",
        "# Separates the messy data set at the semicolons\n",
        "data = pd.read_csv(dataset_url, sep=';')\n",
        "print( data.head() )"
      ],
      "metadata": {
        "colab": {
          "base_uri": "https://localhost:8080/"
        },
        "id": "RbOC0PHByQN9",
        "outputId": "9062cf38-ad05-471f-d998-cb626cd097d4"
      },
      "execution_count": 23,
      "outputs": [
        {
          "output_type": "stream",
          "name": "stdout",
          "text": [
            "   fixed acidity  volatile acidity  citric acid  residual sugar  chlorides  \\\n",
            "0            7.4              0.70         0.00             1.9      0.076   \n",
            "1            7.8              0.88         0.00             2.6      0.098   \n",
            "2            7.8              0.76         0.04             2.3      0.092   \n",
            "3           11.2              0.28         0.56             1.9      0.075   \n",
            "4            7.4              0.70         0.00             1.9      0.076   \n",
            "\n",
            "   free sulfur dioxide  total sulfur dioxide  density    pH  sulphates  \\\n",
            "0                 11.0                  34.0   0.9978  3.51       0.56   \n",
            "1                 25.0                  67.0   0.9968  3.20       0.68   \n",
            "2                 15.0                  54.0   0.9970  3.26       0.65   \n",
            "3                 17.0                  60.0   0.9980  3.16       0.58   \n",
            "4                 11.0                  34.0   0.9978  3.51       0.56   \n",
            "\n",
            "   alcohol  quality  \n",
            "0      9.4        5  \n",
            "1      9.8        5  \n",
            "2      9.8        5  \n",
            "3      9.8        6  \n",
            "4      9.4        5  \n"
          ]
        }
      ]
    },
    {
      "cell_type": "code",
      "source": [
        "print(data.shape)"
      ],
      "metadata": {
        "colab": {
          "base_uri": "https://localhost:8080/"
        },
        "id": "OSy9fgVGzBHu",
        "outputId": "73966acb-60dc-42d0-d18e-ca8748f318c1"
      },
      "execution_count": 24,
      "outputs": [
        {
          "output_type": "stream",
          "name": "stdout",
          "text": [
            "(1599, 12)\n"
          ]
        }
      ]
    },
    {
      "cell_type": "code",
      "source": [
        "print(data.describe())"
      ],
      "metadata": {
        "colab": {
          "base_uri": "https://localhost:8080/"
        },
        "id": "WXwgYIyjzFIu",
        "outputId": "c63d0c9b-34d7-4e4d-a2f8-f78298e95006"
      },
      "execution_count": 25,
      "outputs": [
        {
          "output_type": "stream",
          "name": "stdout",
          "text": [
            "       fixed acidity  volatile acidity  citric acid  residual sugar  \\\n",
            "count    1599.000000       1599.000000  1599.000000     1599.000000   \n",
            "mean        8.319637          0.527821     0.270976        2.538806   \n",
            "std         1.741096          0.179060     0.194801        1.409928   \n",
            "min         4.600000          0.120000     0.000000        0.900000   \n",
            "25%         7.100000          0.390000     0.090000        1.900000   \n",
            "50%         7.900000          0.520000     0.260000        2.200000   \n",
            "75%         9.200000          0.640000     0.420000        2.600000   \n",
            "max        15.900000          1.580000     1.000000       15.500000   \n",
            "\n",
            "         chlorides  free sulfur dioxide  total sulfur dioxide      density  \\\n",
            "count  1599.000000          1599.000000           1599.000000  1599.000000   \n",
            "mean      0.087467            15.874922             46.467792     0.996747   \n",
            "std       0.047065            10.460157             32.895324     0.001887   \n",
            "min       0.012000             1.000000              6.000000     0.990070   \n",
            "25%       0.070000             7.000000             22.000000     0.995600   \n",
            "50%       0.079000            14.000000             38.000000     0.996750   \n",
            "75%       0.090000            21.000000             62.000000     0.997835   \n",
            "max       0.611000            72.000000            289.000000     1.003690   \n",
            "\n",
            "                pH    sulphates      alcohol      quality  \n",
            "count  1599.000000  1599.000000  1599.000000  1599.000000  \n",
            "mean      3.311113     0.658149    10.422983     5.636023  \n",
            "std       0.154386     0.169507     1.065668     0.807569  \n",
            "min       2.740000     0.330000     8.400000     3.000000  \n",
            "25%       3.210000     0.550000     9.500000     5.000000  \n",
            "50%       3.310000     0.620000    10.200000     6.000000  \n",
            "75%       3.400000     0.730000    11.100000     6.000000  \n",
            "max       4.010000     2.000000    14.900000     8.000000  \n"
          ]
        }
      ]
    },
    {
      "cell_type": "markdown",
      "source": [
        "# Step 4: Split data into training and test sets"
      ],
      "metadata": {
        "id": "V9_X3uxYzXfd"
      }
    },
    {
      "cell_type": "code",
      "source": [
        "# Separates our target (y) features from our input (X) features\n",
        "y = data.quality\n",
        "X = data.drop('quality', axis=1)\n",
        "X_train, X_test, y_train, y_test = train_test_split(X, y, test_size=0.2, random_state=123, stratify=y)\n",
        "# Always good practice to \"Stratify\" the target variable\n",
        "# Set aside 20% of the data set to test later"
      ],
      "metadata": {
        "id": "UC5H5haSzZIs"
      },
      "execution_count": 26,
      "outputs": []
    },
    {
      "cell_type": "markdown",
      "source": [
        "# Step 5: Declare data preprocessing steps\n",
        "  **First! Transfrom the training set**"
      ],
      "metadata": {
        "id": "p022ca2A17vO"
      }
    },
    {
      "cell_type": "code",
      "source": [
        "# Transformer API allows you to “fit” a preprocessing step using the training data the same way you’d fit a model\n",
        "# 1. Fit the transformer on the training set (saving the means and standard deviations)\n",
        "# 2. Apply the transformer to the training set (scaling the training data)\n",
        "# 3. Apply the transformer to the test set (using the same means and standard deviations)\n",
        "scaler = preprocessing.StandardScaler().fit(X_train)\n",
        "X_train_scaled = scaler.transform(X_train)\n",
        "print(X_train_scaled)"
      ],
      "metadata": {
        "colab": {
          "base_uri": "https://localhost:8080/"
        },
        "id": "XrjfXfKl18zc",
        "outputId": "50b468e3-af2a-46d9-eac5-23024dd609ef"
      },
      "execution_count": 28,
      "outputs": [
        {
          "output_type": "stream",
          "name": "stdout",
          "text": [
            "[[ 0.51358886  2.19680282 -0.164433   ...  1.08415147 -0.69866131\n",
            "  -0.58608178]\n",
            " [-1.73698885 -0.31792985 -0.82867679 ...  1.46964764  1.2491516\n",
            "   2.97009781]\n",
            " [-0.35201795  0.46443143 -0.47100705 ... -0.13658641 -0.35492962\n",
            "  -0.20843439]\n",
            " ...\n",
            " [-0.98679628  1.10708533 -0.93086814 ...  0.24890976 -0.98510439\n",
            "   0.35803669]\n",
            " [-0.69826067  0.46443143 -1.28853787 ...  1.08415147 -0.35492962\n",
            "  -0.68049363]\n",
            " [ 3.1104093  -0.62528606  2.08377675 ... -1.61432173  0.79084268\n",
            "  -0.39725809]]\n"
          ]
        }
      ]
    },
    {
      "cell_type": "code",
      "source": [
        "print(X_train_scaled.mean(axis = 0))\n",
        "print(X_train_scaled.std(axis = 0))"
      ],
      "metadata": {
        "colab": {
          "base_uri": "https://localhost:8080/"
        },
        "id": "PUv-V-Pm-bUh",
        "outputId": "b250b285-df0b-43e7-f472-1b97fe5f5385"
      },
      "execution_count": 29,
      "outputs": [
        {
          "output_type": "stream",
          "name": "stdout",
          "text": [
            "[ 0. -0. -0. -0.  0. -0. -0. -0. -0. -0. -0.]\n",
            "[1. 1. 1. 1. 1. 1. 1. 1. 1. 1. 1.]\n"
          ]
        }
      ]
    },
    {
      "cell_type": "markdown",
      "source": [
        "**Second! Transform the Test Set!**"
      ],
      "metadata": {
        "id": "SAQQicBv_keQ"
      }
    },
    {
      "cell_type": "code",
      "source": [
        "X_test_scaled = scaler.transform(X_test)\n",
        "print(X_test_scaled.mean(axis=0))\n",
        "print(X_test_scaled.std(axis=0))"
      ],
      "metadata": {
        "colab": {
          "base_uri": "https://localhost:8080/"
        },
        "id": "MYraBP27_Qll",
        "outputId": "41c5e9c0-f1c9-410e-f4cc-8f217ed3910f"
      },
      "execution_count": 31,
      "outputs": [
        {
          "output_type": "stream",
          "name": "stdout",
          "text": [
            "[ 0.02776704  0.02592492 -0.03078587 -0.03137977 -0.00471876 -0.04413827\n",
            " -0.02414174 -0.00293273 -0.00467444 -0.10894663  0.01043391]\n",
            "[1.02160495 1.00135689 0.97456598 0.91099054 0.86716698 0.94193125\n",
            " 1.03673213 1.03145119 0.95734849 0.83829505 1.0286218 ]\n"
          ]
        }
      ]
    },
    {
      "cell_type": "code",
      "source": [
        "# When we set up the cross-validation pipeline, we won’t even need to manually fit the Transformer API.\n",
        "pipeline = make_pipeline(preprocessing.StandardScaler(), RandomForestRegressor(n_estimators=100, random_state=123))"
      ],
      "metadata": {
        "id": "0y6_9JCZAGuv"
      },
      "execution_count": 32,
      "outputs": []
    },
    {
      "cell_type": "markdown",
      "source": [
        "# Step 6: Declare hyperparameters to tune"
      ],
      "metadata": {
        "id": "63uIXYS-AX9x"
      }
    },
    {
      "cell_type": "code",
      "source": [
        "hyperparameters = { 'randomforestregressor__max_features' : ['auto', 'sqrt', 'log2'], 'randomforestregressor__max_depth': [None, 5, 3, 1]}\n"
      ],
      "metadata": {
        "id": "FlKr0rBWCj0m"
      },
      "execution_count": 34,
      "outputs": []
    },
    {
      "cell_type": "markdown",
      "source": [
        "# Step 7: Tune model using a cross-validation pipeline\n",
        "\n",
        "**The steps for Cross validation**\n",
        "\n",
        "1. Split your data into k equal parts, or “folds” (typically k=10).\n",
        "2. Train your model on k-1 folds (e.g. the first 9 folds).\n",
        "3. Evaluate it on the remaining “hold-out” fold (e.g. the 10th fold).\n",
        "4. Perform steps (2) and (3) k times, each time holding out a different fold.\n",
        "5. Aggregate the performance across all k folds. This is your performance metric.\n",
        "\n",
        "\n",
        "\n",
        "\n"
      ],
      "metadata": {
        "id": "R5UDuA7oDl5o"
      }
    },
    {
      "cell_type": "markdown",
      "source": [
        "**CV pipeline after including preprocessing steps:**\n",
        "\n",
        "1. Split your data into k equal parts, or “folds” (typically k=10).\n",
        "2. Preprocess k-1 training folds.\n",
        "3. Train your model on the same k-1 folds.\n",
        "4. Preprocess the hold-out fold using the same transformations from step (2).\n",
        "5. Evaluate your model on the same hold-out fold.\n",
        "6. Perform steps (2) – (5) k times, each time holding out a different fold.\n",
        "7. Aggregate the performance across all k folds. This is your performance metric.\n"
      ],
      "metadata": {
        "id": "avaecrTnEvGW"
      }
    },
    {
      "cell_type": "code",
      "source": [
        "clf = GridSearchCV(pipeline, hyperparameters, cv=10)\n",
        " # Fit and tune model\n",
        "clf.fit(X_train, y_train)\n",
        "print( clf.best_params_ )"
      ],
      "metadata": {
        "colab": {
          "base_uri": "https://localhost:8080/"
        },
        "id": "jgAEtC6YDpLk",
        "outputId": "e8b3216f-f905-4971-ef9a-3f3e9f40e438"
      },
      "execution_count": 36,
      "outputs": [
        {
          "output_type": "stream",
          "name": "stdout",
          "text": [
            "{'randomforestregressor__max_depth': None, 'randomforestregressor__max_features': 'sqrt'}\n"
          ]
        }
      ]
    },
    {
      "cell_type": "markdown",
      "source": [
        "# Step 8: Refit on the entire training set"
      ],
      "metadata": {
        "id": "koSkUwm_2kZW"
      }
    },
    {
      "cell_type": "code",
      "source": [
        "print( clf.refit )"
      ],
      "metadata": {
        "colab": {
          "base_uri": "https://localhost:8080/"
        },
        "id": "JcPor_F_2iED",
        "outputId": "7cadeaab-0bc1-4f94-c93c-025baac71807"
      },
      "execution_count": 37,
      "outputs": [
        {
          "output_type": "stream",
          "name": "stdout",
          "text": [
            "True\n"
          ]
        }
      ]
    },
    {
      "cell_type": "markdown",
      "source": [
        "# Step 9: Evaluate model pipeline on test data"
      ],
      "metadata": {
        "id": "hE0nxMKL3hKM"
      }
    },
    {
      "cell_type": "code",
      "source": [
        "y_pred = clf.predict(X_test)\n",
        "print( r2_score(y_test, y_pred) )\n",
        "print( mean_squared_error(y_test, y_pred) )\n"
      ],
      "metadata": {
        "colab": {
          "base_uri": "https://localhost:8080/"
        },
        "id": "G6hmGiZ03ip6",
        "outputId": "6c3e535e-c09f-4eb8-b8c1-051c8724ca8f"
      },
      "execution_count": 38,
      "outputs": [
        {
          "output_type": "stream",
          "name": "stdout",
          "text": [
            "0.4712595193413647\n",
            "0.34118218749999996\n"
          ]
        }
      ]
    },
    {
      "cell_type": "markdown",
      "source": [
        "# Step 10: Save model for future use"
      ],
      "metadata": {
        "id": "yrlKmwkt4mjs"
      }
    },
    {
      "cell_type": "code",
      "source": [
        "joblib.dump(clf, 'rf_regressor.pkl')"
      ],
      "metadata": {
        "colab": {
          "base_uri": "https://localhost:8080/"
        },
        "id": "KZ35sOJC4ohX",
        "outputId": "8667978b-9294-4af8-84bc-d4763e6648a0"
      },
      "execution_count": 39,
      "outputs": [
        {
          "output_type": "execute_result",
          "data": {
            "text/plain": [
              "['rf_regressor.pkl']"
            ]
          },
          "metadata": {},
          "execution_count": 39
        }
      ]
    }
  ]
}